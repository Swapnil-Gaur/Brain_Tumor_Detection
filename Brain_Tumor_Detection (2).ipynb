{
  "nbformat": 4,
  "nbformat_minor": 0,
  "metadata": {
    "colab": {
      "name": "Brain Tumor Detection",
      "provenance": [],
      "collapsed_sections": []
    },
    "kernelspec": {
      "name": "python3",
      "display_name": "Python 3"
    },
    "language_info": {
      "name": "python"
    }
  },
  "cells": [
    {
      "cell_type": "code",
      "execution_count": null,
      "metadata": {
        "colab": {
          "base_uri": "https://localhost:8080/"
        },
        "id": "uwNfXm-dFDAp",
        "outputId": "e9654c94-94d2-4821-dc59-c2250b3b4e3e"
      },
      "outputs": [
        {
          "output_type": "stream",
          "name": "stdout",
          "text": [
            "Requirement already satisfied: kaggle in /usr/local/lib/python3.7/dist-packages (1.5.12)\n",
            "Requirement already satisfied: urllib3 in /usr/local/lib/python3.7/dist-packages (from kaggle) (1.24.3)\n",
            "Requirement already satisfied: python-slugify in /usr/local/lib/python3.7/dist-packages (from kaggle) (5.0.2)\n",
            "Requirement already satisfied: tqdm in /usr/local/lib/python3.7/dist-packages (from kaggle) (4.62.3)\n",
            "Requirement already satisfied: requests in /usr/local/lib/python3.7/dist-packages (from kaggle) (2.23.0)\n",
            "Requirement already satisfied: python-dateutil in /usr/local/lib/python3.7/dist-packages (from kaggle) (2.8.2)\n",
            "Requirement already satisfied: certifi in /usr/local/lib/python3.7/dist-packages (from kaggle) (2021.10.8)\n",
            "Requirement already satisfied: six>=1.10 in /usr/local/lib/python3.7/dist-packages (from kaggle) (1.15.0)\n",
            "Requirement already satisfied: text-unidecode>=1.3 in /usr/local/lib/python3.7/dist-packages (from python-slugify->kaggle) (1.3)\n",
            "Requirement already satisfied: chardet<4,>=3.0.2 in /usr/local/lib/python3.7/dist-packages (from requests->kaggle) (3.0.4)\n",
            "Requirement already satisfied: idna<3,>=2.5 in /usr/local/lib/python3.7/dist-packages (from requests->kaggle) (2.10)\n"
          ]
        }
      ],
      "source": [
        "!pip install kaggle"
      ]
    },
    {
      "cell_type": "code",
      "source": [
        "!mkdir -p ~/.kaggle\n",
        "!cp kaggle.json ~/.kaggle/\n",
        "!ls /root/.kaggle/\n",
        "!ls -l ~/.kaggle/kaggle.json\n",
        "!chmod 600 ~/.kaggle/kaggle.json"
      ],
      "metadata": {
        "colab": {
          "base_uri": "https://localhost:8080/"
        },
        "id": "KrgaIS_BIARu",
        "outputId": "fe7d080e-7ae0-4d1b-901c-a57368f0a90e"
      },
      "execution_count": null,
      "outputs": [
        {
          "output_type": "stream",
          "name": "stdout",
          "text": [
            "kaggle.json\n",
            "-rw-r--r-- 1 root root 67 Dec 27 09:13 /root/.kaggle/kaggle.json\n"
          ]
        }
      ]
    },
    {
      "cell_type": "code",
      "source": [
        "!kaggle datasets download -d navoneel/brain-mri-images-for-brain-tumor-detection"
      ],
      "metadata": {
        "colab": {
          "base_uri": "https://localhost:8080/"
        },
        "id": "eSCI_wZDKuTH",
        "outputId": "eeeaf8bb-6d43-4942-96c2-6595c324c95d"
      },
      "execution_count": null,
      "outputs": [
        {
          "output_type": "stream",
          "name": "stdout",
          "text": [
            "brain-mri-images-for-brain-tumor-detection.zip: Skipping, found more recently modified local copy (use --force to force download)\n"
          ]
        }
      ]
    },
    {
      "cell_type": "code",
      "source": [
        "from zipfile import ZipFile \n",
        "dataset = \"/content/brain-mri-images-for-brain-tumor-detection.zip\"\n",
        "with ZipFile(dataset, 'r') as zip:\n",
        " zip.extractall()\n",
        " print('done')"
      ],
      "metadata": {
        "colab": {
          "base_uri": "https://localhost:8080/"
        },
        "id": "VCmqzswZMPkV",
        "outputId": "682de6c8-1f2f-4f20-ebe7-65f6c86c2d55"
      },
      "execution_count": null,
      "outputs": [
        {
          "output_type": "stream",
          "name": "stdout",
          "text": [
            "done\n"
          ]
        }
      ]
    },
    {
      "cell_type": "code",
      "source": [
        "import cv2\n",
        "import os\n",
        "import tensorflow as tf\n",
        "from tensorflow import keras \n",
        "from PIL import Image \n",
        "import numpy as np\n",
        "from sklearn.model_selection import train_test_split\n",
        "from keras.utils import normalize\n",
        "from keras.models import Sequential\n",
        "from keras.layers import Conv2D, MaxPooling2D, Activation, Dropout, Flatten, Dense\n",
        "from keras.utils import to_categorical\n",
        "\n",
        "\n",
        "image_Directory=\"DATASET/\"\n",
        "no_tumor_images=os.listdir(image_Directory+ '\\no')\n",
        "dataset=[]\n",
        "label=[]\n",
        "INPUT_SIZE=64\n",
        "\n",
        "print(no_tumor_images)\n",
        "for i, image_name in enumerate(no_tumor_images):\n",
        "    if(image_name.split('.')[1]==\"jpg\"):\n",
        "        image=cv2.imread(image_Directory +'no/'+image_name)\n",
        "        image=Image.fromarray(image, \"RGB\")\n",
        "        image=image.resize((INPUT_SIZE, INPUT_SIZE))\n",
        "        dataset.append(np.array(image))\n",
        "        label.append(0)\n",
        "\n",
        "for i, image_name in enumerate(yes_tumor_images):\n",
        "    if(image_name.split('.')[1]==\"jpg\"):\n",
        "        image=cv2.imread(image_Directory +'yes/'+image_name)\n",
        "        image=Image.fromarray(image, \"RGB\")\n",
        "        image=image.resize((INPUT_SIZE, INPUT_SIZE))\n",
        "        dataset.append(np.array(image))\n",
        "        label.append(1)\n",
        "\n",
        "dataset=np.array(dataset)\n",
        "label=np.array(label)\n",
        "\n",
        "x_train, x_test, y_train, y_test=train_test_split( dataset, label, test_size=0.2, rand_state=0)\n",
        "print(x_train.shape)\n",
        "print(x_test.shape)\n",
        "print(y_train.shape)\n",
        "print(y_test.shape)\n",
        "x_train=normalize(x_train, axis=1)\n",
        "x_test=normalize(x_test, axis=1)\n",
        "y_train=to_categorical(y_train, num_classes=2)\n",
        "y_test=to_categorical(y_test, num_classes=2)\n",
        "model=Sequential()\n",
        "\n",
        "model.add(Conv2D(32, (3,3), input_shape=(INPUT_SIZE, INPUT_SIZE, 3)))\n",
        "model.add(Activation('relu'))\n",
        "model.add(MaxPooling2D(pool_size=(2,2)))\n",
        "\n",
        "model.add(Conv2D(32, (3,3), kernel_initializer='he_uniform'))\n",
        "model.add(Activation('relu'))\n",
        "model.add(MaxPooling2D(pool_size=(2,2)))\n",
        "\n",
        "model.add(Conv2D(32, (3,3), kernel_initializer='he_uniform'))\n",
        "model.add(Activation('relu'))\n",
        "model.add(MaxPooling2D(pool_size=(2,2)))\n",
        "\n",
        "model.add(Flatten())\n",
        "model.add(Dense(64))\n",
        "model.add(Activation('relu'))\n",
        "model.add(Dropout(0.5))\n",
        "model.add(Dense(2))\n",
        "model.add(Activation('softmax'))\n",
        "model.compile(loss='categorical_crossentropy', optimizer='adam', metrics=['accuracy'])\n",
        "model.fit(x_train, y_train,\n",
        "batch_size=16,\n",
        "verbose=1, epochs=10,\n",
        "validation_date=(x_test, y_test),\n",
        "shuffle=False)\n",
        "\n",
        "model.save('BrainTumor10Epochs.h5')"
      ],
      "metadata": {
        "id": "f911WaRjQgQH"
      },
      "execution_count": null,
      "outputs": []
    },
    {
      "cell_type": "code",
      "source": [
        "from keras.models import load_model\n",
        "\n",
        "model=load_model('BrainTumor10Epochs.h5')\n",
        "image=cv2.imread('preDiction image path')\n",
        "\n",
        "img=Image.fromarray(image)\n",
        "\n",
        "img=img.resize((64,64))\n",
        "\n",
        "img=np.array(img)\n",
        "input_img=np.expand_dims(img, axis=0)\n",
        "\n",
        "result=model.predict_classes(input_img)\n",
        "print(result)"
      ],
      "metadata": {
        "id": "TPPyBNAfQoWH"
      },
      "execution_count": null,
      "outputs": []
    }
  ]
}